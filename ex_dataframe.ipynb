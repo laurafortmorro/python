{
 "cells": [
  {
   "cell_type": "markdown",
   "metadata": {},
   "source": [
    "EJERCICIOS DATAFRAME:\n",
    "CARGAREMOS EL FICHERO TITANIC SCV Y RESOLVEREMOS LOS SIGUIENTES ENUNCIADOS:\n",
    "1- VER LOS 6 PRIMERO NOMBRES DE LOS PASAJEROS DE LA CLASE 1(DESC)\n",
    "2- VER LAS 3 ÚLTIMAS EDADES DE LOS PASAJEROS DE LA CLASE 3\n",
    "3- VER LOS 4 PRIMEROS NOMBRES DE LOS PASAJEROS QUE NO SEAN DE LA CLASE 2\n",
    "4- VER LOS 6 PRIMEROS PASAJEROS CUYO NOMBRE CONTIENE LA PALABRA MARY\n",
    "5- VER LOS 10 PRIMEROS NOMBRES DE LOS PASAJEROS QUE SOBREVIVIERON(SURVIVED = 0, SURVIVED =1)"
   ]
  },
  {
   "cell_type": "code",
   "execution_count": 43,
   "metadata": {},
   "outputs": [
    {
     "name": "stdout",
     "output_type": "stream",
     "text": [
      "<class 'pandas.core.frame.DataFrame'>\n",
      "RangeIndex: 891 entries, 0 to 890\n",
      "Data columns (total 12 columns):\n",
      " #   Column       Non-Null Count  Dtype \n",
      "---  ------       --------------  ----- \n",
      " 0   PassengerId  891 non-null    int64 \n",
      " 1   Survived     891 non-null    int64 \n",
      " 2   Pclass       891 non-null    int64 \n",
      " 3   Name         891 non-null    object\n",
      " 4   Sex          891 non-null    object\n",
      " 5   Age          714 non-null    object\n",
      " 6   SibSp        891 non-null    int64 \n",
      " 7   Parch        891 non-null    int64 \n",
      " 8   Ticket       891 non-null    object\n",
      " 9   Fare         891 non-null    object\n",
      " 10  Cabin        204 non-null    object\n",
      " 11  Embarked     889 non-null    object\n",
      "dtypes: int64(5), object(7)\n",
      "memory usage: 83.7+ KB\n"
     ]
    }
   ],
   "source": [
    "import pandas as pd\n",
    "\n",
    "titanic= pd.read_csv(r\"C:\\Users\\Laura Fort\\Documents\\Python\\introductionPython\\Titanic.csv\")\n",
    "titanic\n",
    "titanic.info()"
   ]
  },
  {
   "cell_type": "code",
   "execution_count": 44,
   "metadata": {},
   "outputs": [
    {
     "name": "stdout",
     "output_type": "stream",
     "text": [
      "23                         Sloper, Mr. William Thompson\n",
      "6                               McCarthy, Mr. Timothy J\n",
      "3          Futrelle, Mrs. Jacques Heath (Lily May Peel)\n",
      "27                       Fortune, Mr. Charles Alexander\n",
      "1     Cumings, Mrs. John Bradley (Florence Briggs Th...\n",
      "11                             Bonnell, Miss. Elizabeth\n",
      "Name: Name, dtype: object\n"
     ]
    },
    {
     "data": {
      "text/html": [
       "<div>\n",
       "<style scoped>\n",
       "    .dataframe tbody tr th:only-of-type {\n",
       "        vertical-align: middle;\n",
       "    }\n",
       "\n",
       "    .dataframe tbody tr th {\n",
       "        vertical-align: top;\n",
       "    }\n",
       "\n",
       "    .dataframe thead th {\n",
       "        text-align: right;\n",
       "    }\n",
       "</style>\n",
       "<table border=\"1\" class=\"dataframe\">\n",
       "  <thead>\n",
       "    <tr style=\"text-align: right;\">\n",
       "      <th></th>\n",
       "      <th>Name</th>\n",
       "      <th>Age</th>\n",
       "    </tr>\n",
       "  </thead>\n",
       "  <tbody>\n",
       "    <tr>\n",
       "      <th>0</th>\n",
       "      <td>Pepe, Mr. Owen Harris</td>\n",
       "      <td>22</td>\n",
       "    </tr>\n",
       "    <tr>\n",
       "      <th>1</th>\n",
       "      <td>Cumings, Mrs. John Bradley (Florence Briggs Th...</td>\n",
       "      <td>38</td>\n",
       "    </tr>\n",
       "    <tr>\n",
       "      <th>2</th>\n",
       "      <td>Heikkinen, Miss. Laina</td>\n",
       "      <td>26</td>\n",
       "    </tr>\n",
       "    <tr>\n",
       "      <th>3</th>\n",
       "      <td>Futrelle, Mrs. Jacques Heath (Lily May Peel)</td>\n",
       "      <td>35</td>\n",
       "    </tr>\n",
       "    <tr>\n",
       "      <th>4</th>\n",
       "      <td>Allen, Mr. William Henry</td>\n",
       "      <td>35</td>\n",
       "    </tr>\n",
       "    <tr>\n",
       "      <th>...</th>\n",
       "      <td>...</td>\n",
       "      <td>...</td>\n",
       "    </tr>\n",
       "    <tr>\n",
       "      <th>886</th>\n",
       "      <td>Montvila, Rev. Juozas</td>\n",
       "      <td>27</td>\n",
       "    </tr>\n",
       "    <tr>\n",
       "      <th>887</th>\n",
       "      <td>Graham, Miss. Margaret Edith</td>\n",
       "      <td>19</td>\n",
       "    </tr>\n",
       "    <tr>\n",
       "      <th>888</th>\n",
       "      <td>Johnston, Miss. Catherine Helen \"Carrie\"</td>\n",
       "      <td>NaN</td>\n",
       "    </tr>\n",
       "    <tr>\n",
       "      <th>889</th>\n",
       "      <td>Behr, Mr. Karl Howell</td>\n",
       "      <td>26</td>\n",
       "    </tr>\n",
       "    <tr>\n",
       "      <th>890</th>\n",
       "      <td>Dooley, Mr. Patrick</td>\n",
       "      <td>32</td>\n",
       "    </tr>\n",
       "  </tbody>\n",
       "</table>\n",
       "<p>891 rows × 2 columns</p>\n",
       "</div>"
      ],
      "text/plain": [
       "                                                  Name  Age\n",
       "0                                Pepe, Mr. Owen Harris   22\n",
       "1    Cumings, Mrs. John Bradley (Florence Briggs Th...   38\n",
       "2                               Heikkinen, Miss. Laina   26\n",
       "3         Futrelle, Mrs. Jacques Heath (Lily May Peel)   35\n",
       "4                             Allen, Mr. William Henry   35\n",
       "..                                                 ...  ...\n",
       "886                              Montvila, Rev. Juozas   27\n",
       "887                       Graham, Miss. Margaret Edith   19\n",
       "888           Johnston, Miss. Catherine Helen \"Carrie\"  NaN\n",
       "889                              Behr, Mr. Karl Howell   26\n",
       "890                                Dooley, Mr. Patrick   32\n",
       "\n",
       "[891 rows x 2 columns]"
      ]
     },
     "execution_count": 44,
     "metadata": {},
     "output_type": "execute_result"
    }
   ],
   "source": [
    "#1- VER LOS 6 PRIMERO NOMBRES DE LOS PASAJEROS DE LA CLASE 1(DESC)\n",
    "filtro1= titanic[\"Pclass\"]==1\n",
    "titanic6NombresC1= titanic[filtro1]\n",
    "titanic6NombresC1= titanic6NombresC1[\"Name\"].head(6).sort_values(ascending=False)\n",
    "print(titanic6NombresC1)\n",
    "\n",
    "#opciones directas por no tener que crear una nueva variable:\n",
    "titanic[filtro1][\"Name\"].head(6).sort_values(ascending=False)\n",
    "titanic[filtro1].Name.head(6).sort_values(ascending=False)\n",
    "titanic[\"Name\"][filtro1].head(6).sort_values(ascending=False)\n",
    "\n",
    "#para ver más de un campo\n",
    "titanic[[\"Name\",\"Age\"]]"
   ]
  },
  {
   "cell_type": "code",
   "execution_count": 45,
   "metadata": {},
   "outputs": [
    {
     "data": {
      "text/plain": [
       "885     39\n",
       "888    NaN\n",
       "890     32\n",
       "Name: Age, dtype: object"
      ]
     },
     "execution_count": 45,
     "metadata": {},
     "output_type": "execute_result"
    }
   ],
   "source": [
    "#2- VER LAS 3 ÚLTIMAS EDADES DE LOS PASAJEROS DE LA CLASE 3\n",
    "filtro2= titanic[\"Pclass\"]==3\n",
    "titanic3EdadesC3= titanic[filtro2]\n",
    "titanic3EdadesC3= titanic3EdadesC3[\"Age\"].tail(3)\n",
    "titanic3EdadesC3\n",
    "#método más corto:\n",
    "titanic[filtro2][\"Age\"].tail(3)"
   ]
  },
  {
   "cell_type": "code",
   "execution_count": 46,
   "metadata": {},
   "outputs": [
    {
     "data": {
      "text/plain": [
       "0                                Pepe, Mr. Owen Harris\n",
       "1    Cumings, Mrs. John Bradley (Florence Briggs Th...\n",
       "2                               Heikkinen, Miss. Laina\n",
       "3         Futrelle, Mrs. Jacques Heath (Lily May Peel)\n",
       "Name: Name, dtype: object"
      ]
     },
     "execution_count": 46,
     "metadata": {},
     "output_type": "execute_result"
    }
   ],
   "source": [
    "#3- VER LOS 4 PRIMEROS NOMBRES DE LOS PASAJEROS QUE NO SEAN DE LA CLASE 2\n",
    "filtro3= titanic[\"Pclass\"]!=2\n",
    "titanic4NombresNoC2= titanic[filtro3]\n",
    "titanic4NombresNoC2= titanic4NombresNoC2[\"Name\"].head(4)\n",
    "titanic4NombresNoC2\n",
    "\n",
    "#método más corto\n",
    "titanic[filtro3][\"Name\"].head(4)"
   ]
  },
  {
   "cell_type": "code",
   "execution_count": 47,
   "metadata": {},
   "outputs": [
    {
     "data": {
      "text/html": [
       "<div>\n",
       "<style scoped>\n",
       "    .dataframe tbody tr th:only-of-type {\n",
       "        vertical-align: middle;\n",
       "    }\n",
       "\n",
       "    .dataframe tbody tr th {\n",
       "        vertical-align: top;\n",
       "    }\n",
       "\n",
       "    .dataframe thead th {\n",
       "        text-align: right;\n",
       "    }\n",
       "</style>\n",
       "<table border=\"1\" class=\"dataframe\">\n",
       "  <thead>\n",
       "    <tr style=\"text-align: right;\">\n",
       "      <th></th>\n",
       "      <th>PassengerId</th>\n",
       "      <th>Survived</th>\n",
       "      <th>Pclass</th>\n",
       "      <th>Name</th>\n",
       "      <th>Sex</th>\n",
       "      <th>Age</th>\n",
       "      <th>SibSp</th>\n",
       "      <th>Parch</th>\n",
       "      <th>Ticket</th>\n",
       "      <th>Fare</th>\n",
       "      <th>Cabin</th>\n",
       "      <th>Embarked</th>\n",
       "    </tr>\n",
       "  </thead>\n",
       "  <tbody>\n",
       "    <tr>\n",
       "      <th>15</th>\n",
       "      <td>16</td>\n",
       "      <td>1</td>\n",
       "      <td>2</td>\n",
       "      <td>Hewlett, Mrs. (Mary D Kingcome)</td>\n",
       "      <td>female</td>\n",
       "      <td>55</td>\n",
       "      <td>0</td>\n",
       "      <td>0</td>\n",
       "      <td>248706</td>\n",
       "      <td>16</td>\n",
       "      <td>NaN</td>\n",
       "      <td>S</td>\n",
       "    </tr>\n",
       "    <tr>\n",
       "      <th>32</th>\n",
       "      <td>33</td>\n",
       "      <td>1</td>\n",
       "      <td>3</td>\n",
       "      <td>Glynn, Miss. Mary Agatha</td>\n",
       "      <td>female</td>\n",
       "      <td>NaN</td>\n",
       "      <td>0</td>\n",
       "      <td>0</td>\n",
       "      <td>335677</td>\n",
       "      <td>7,75</td>\n",
       "      <td>NaN</td>\n",
       "      <td>Q</td>\n",
       "    </tr>\n",
       "    <tr>\n",
       "      <th>318</th>\n",
       "      <td>319</td>\n",
       "      <td>1</td>\n",
       "      <td>1</td>\n",
       "      <td>Wick, Miss. Mary Natalie</td>\n",
       "      <td>female</td>\n",
       "      <td>31</td>\n",
       "      <td>0</td>\n",
       "      <td>2</td>\n",
       "      <td>36928</td>\n",
       "      <td>164,8667</td>\n",
       "      <td>C7</td>\n",
       "      <td>S</td>\n",
       "    </tr>\n",
       "    <tr>\n",
       "      <th>322</th>\n",
       "      <td>323</td>\n",
       "      <td>1</td>\n",
       "      <td>2</td>\n",
       "      <td>Slayter, Miss. Hilda Mary</td>\n",
       "      <td>female</td>\n",
       "      <td>30</td>\n",
       "      <td>0</td>\n",
       "      <td>0</td>\n",
       "      <td>234818</td>\n",
       "      <td>12,35</td>\n",
       "      <td>NaN</td>\n",
       "      <td>Q</td>\n",
       "    </tr>\n",
       "    <tr>\n",
       "      <th>347</th>\n",
       "      <td>348</td>\n",
       "      <td>1</td>\n",
       "      <td>3</td>\n",
       "      <td>Davison, Mrs. Thomas Henry (Mary E Finck)</td>\n",
       "      <td>female</td>\n",
       "      <td>NaN</td>\n",
       "      <td>1</td>\n",
       "      <td>0</td>\n",
       "      <td>386525</td>\n",
       "      <td>16,1</td>\n",
       "      <td>NaN</td>\n",
       "      <td>S</td>\n",
       "    </tr>\n",
       "    <tr>\n",
       "      <th>358</th>\n",
       "      <td>359</td>\n",
       "      <td>1</td>\n",
       "      <td>3</td>\n",
       "      <td>McGovern, Miss. Mary</td>\n",
       "      <td>female</td>\n",
       "      <td>NaN</td>\n",
       "      <td>0</td>\n",
       "      <td>0</td>\n",
       "      <td>330931</td>\n",
       "      <td>7,8792</td>\n",
       "      <td>NaN</td>\n",
       "      <td>Q</td>\n",
       "    </tr>\n",
       "  </tbody>\n",
       "</table>\n",
       "</div>"
      ],
      "text/plain": [
       "     PassengerId  Survived  Pclass                                       Name  \\\n",
       "15            16         1       2           Hewlett, Mrs. (Mary D Kingcome)    \n",
       "32            33         1       3                   Glynn, Miss. Mary Agatha   \n",
       "318          319         1       1                   Wick, Miss. Mary Natalie   \n",
       "322          323         1       2                  Slayter, Miss. Hilda Mary   \n",
       "347          348         1       3  Davison, Mrs. Thomas Henry (Mary E Finck)   \n",
       "358          359         1       3                       McGovern, Miss. Mary   \n",
       "\n",
       "        Sex  Age  SibSp  Parch  Ticket      Fare Cabin Embarked  \n",
       "15   female   55      0      0  248706        16   NaN        S  \n",
       "32   female  NaN      0      0  335677      7,75   NaN        Q  \n",
       "318  female   31      0      2   36928  164,8667    C7        S  \n",
       "322  female   30      0      0  234818     12,35   NaN        Q  \n",
       "347  female  NaN      1      0  386525      16,1   NaN        S  \n",
       "358  female  NaN      0      0  330931    7,8792   NaN        Q  "
      ]
     },
     "execution_count": 47,
     "metadata": {},
     "output_type": "execute_result"
    }
   ],
   "source": [
    "#4- VER LOS 6 PRIMEROS PASAJEROS CUYO NOMBRE CONTIENE LA PALABRA MARY\n",
    "titanicMary= titanic[\"Name\"].str.contains(\"Mary\")\n",
    "titanic[titanicMary].head(6)"
   ]
  },
  {
   "cell_type": "code",
   "execution_count": 48,
   "metadata": {},
   "outputs": [
    {
     "data": {
      "text/plain": [
       "1     Cumings, Mrs. John Bradley (Florence Briggs Th...\n",
       "2                                Heikkinen, Miss. Laina\n",
       "3          Futrelle, Mrs. Jacques Heath (Lily May Peel)\n",
       "8     Johnson, Mrs. Oscar W (Elisabeth Vilhelmina Berg)\n",
       "9                   Nasser, Mrs. Nicholas (Adele Achem)\n",
       "10                      Sandstrom, Miss. Marguerite Rut\n",
       "11                             Bonnell, Miss. Elizabeth\n",
       "15                     Hewlett, Mrs. (Mary D Kingcome) \n",
       "17                         Williams, Mr. Charles Eugene\n",
       "19                              Masselmani, Mrs. Fatima\n",
       "Name: Name, dtype: object"
      ]
     },
     "execution_count": 48,
     "metadata": {},
     "output_type": "execute_result"
    }
   ],
   "source": [
    "#5- VER LOS 10 PRIMEROS NOMBRES DE LOS PASAJEROS QUE SOBREVIVIERON(SURVIVED = 0, SURVIVED =1)\n",
    "filtro5= titanic[\"Survived\"]==1\n",
    "titanicSurvived= titanic[filtro5][\"Name\"].head(10)\n",
    "titanicSurvived"
   ]
  },
  {
   "cell_type": "code",
   "execution_count": 49,
   "metadata": {},
   "outputs": [
    {
     "name": "stdout",
     "output_type": "stream",
     "text": [
      "El número de pasajeros de clase 1 es: 216\n"
     ]
    }
   ],
   "source": [
    "#COMO SABER EL NÚMERO DE PERSONAS DE LA CLASE 1\n",
    "\n",
    "numPasajeros= titanic[filtro1].PassengerId.count()\n",
    "print(\"El número de pasajeros de clase 1 es:\", numPasajeros)"
   ]
  },
  {
   "cell_type": "code",
   "execution_count": 50,
   "metadata": {},
   "outputs": [
    {
     "data": {
      "text/plain": [
       "np.int64(714)"
      ]
     },
     "execution_count": 50,
     "metadata": {},
     "output_type": "execute_result"
    }
   ],
   "source": [
    "#Como aplicar más de una condición a un filtro, para ello usaremos los operadores de lógica OR + AND\n",
    "#En el caso del OR= | (altgr+1) y en AND= &\n",
    "\n",
    "titanicC3C1= (titanic[\"Pclass\"]==3)|(titanic[\"Survived\"]==1)\n",
    "titanic[titanicC3C1].PassengerId.count()\n"
   ]
  },
  {
   "cell_type": "code",
   "execution_count": 51,
   "metadata": {},
   "outputs": [
    {
     "data": {
      "text/plain": [
       "9       10\n",
       "15      16\n",
       "17      18\n",
       "21      22\n",
       "43      44\n",
       "      ... \n",
       "831    832\n",
       "865    866\n",
       "866    867\n",
       "874    875\n",
       "880    881\n",
       "Name: PassengerId, Length: 87, dtype: int64"
      ]
     },
     "execution_count": 51,
     "metadata": {},
     "output_type": "execute_result"
    }
   ],
   "source": [
    "titanicC2PS= (titanic[\"Pclass\"]==2)&(titanic[\"Survived\"]==1)\n",
    "titanic[titanicC2PS].PassengerId"
   ]
  },
  {
   "cell_type": "code",
   "execution_count": 52,
   "metadata": {},
   "outputs": [
    {
     "data": {
      "text/plain": [
       "array(['S', 'C', 'Q', nan], dtype=object)"
      ]
     },
     "execution_count": 52,
     "metadata": {},
     "output_type": "execute_result"
    }
   ],
   "source": [
    "#Ver lsos diferentes valores de un campo, usaremos Unique\n",
    "titanic[\"Embarked\"].unique()"
   ]
  },
  {
   "cell_type": "markdown",
   "metadata": {},
   "source": [
    "PRÁCTICA 6: VER LA CANTIDAD DE PASAJEROS QUE SON HOMBRES DE LA CLASE 1 Y QUE EMBARCARON POR LA PUERTA S\n",
    "PRÁCTICA 11: VER LOS NOMBRES DE LOS PASAJEROS DE LA CLASE 3 QUE NO SOBREVIVIERON\n",
    "PRÁCTICA 12: VER LOS 12 ÚLTIMOS NOMBRES EN ORDEN DESC DE PASAJEROS QUE SON MUJERES DE LA CLASE 3 Y QUE, CUYO PASSENGERID ES MAYOR A 100\n",
    "PRÁCTICA 13: VER UNA LISTA CON LOS NOMBRES CUYO PASSENGERId ESTÉ COMPRENDIDO ENTRE 70 Y 180"
   ]
  },
  {
   "cell_type": "code",
   "execution_count": 53,
   "metadata": {},
   "outputs": [
    {
     "data": {
      "text/plain": [
       "np.int64(79)"
      ]
     },
     "execution_count": 53,
     "metadata": {},
     "output_type": "execute_result"
    }
   ],
   "source": [
    "#PRÁCTICA 6: VER LA CANTIDAD DE PASAJEROS QUE SON HOMBRES DE LA CLASE 1 Y QUE EMBARCARON POR LA PUERTA S\n",
    "titanicC1ManNoPS= (titanic[\"Pclass\"]==1)&(titanic[\"Sex\"]==\"male\")&(titanic[\"Embarked\"]==\"S\")\n",
    "titanic[titanicC1ManNoPS].PassengerId.count()"
   ]
  },
  {
   "cell_type": "code",
   "execution_count": 60,
   "metadata": {},
   "outputs": [
    {
     "data": {
      "text/plain": [
       "845                               Abbing, Mr. Anthony\n",
       "746                       Abbott, Mr. Rossmore Edward\n",
       "365                    Adahl, Mr. Mauritz Nils Martin\n",
       "401                                   Adams, Mr. John\n",
       "40     Ahlin, Mrs. Johan (Johanna Persdotter Larsson)\n",
       "                            ...                      \n",
       "240                             Zabour, Miss. Thamine\n",
       "422                                Zimmerman, Mr. Leo\n",
       "282                         de Pelsmaeker, Mr. Alfons\n",
       "153                   van Billiard, Mr. Austin Blyler\n",
       "868                       van Melkebeke, Mr. Philemon\n",
       "Name: Name, Length: 372, dtype: object"
      ]
     },
     "execution_count": 60,
     "metadata": {},
     "output_type": "execute_result"
    }
   ],
   "source": [
    "#PRÁCTICA 11: VER LOS NOMBRES DE LOS PASAJEROS DE LA CLASE 3 QUE NO SOBREVIVIERON\n",
    "titanicC3NoSurvived= (titanic[\"Pclass\"]==3)&(titanic[\"Survived\"]==0)\n",
    "titanic[titanicC3NoSurvived].Name.sort_values()"
   ]
  },
  {
   "cell_type": "code",
   "execution_count": 62,
   "metadata": {},
   "outputs": [
    {
     "data": {
      "text/plain": [
       "830     Yasbeck, Mrs. Antoni (Selini Alexander)\n",
       "863           Sage, Miss. Dorothy Edith \"Dolly\"\n",
       "885        Rice, Mrs. William (Margaret Norton)\n",
       "875            Najib, Miss. Adele Kiamie \"Jane\"\n",
       "823                          Moor, Mrs. (Beila)\n",
       "888    Johnston, Miss. Catherine Helen \"Carrie\"\n",
       "816                Heininen, Miss. Wendla Maria\n",
       "882                Dahlberg, Miss. Gerda Ulrika\n",
       "852                     Boulos, Miss. Nourelain\n",
       "858       Baclini, Mrs. Solomon (Latifa Qurban)\n",
       "813          Andersson, Miss. Ebba Iris Alfrida\n",
       "855                  Aks, Mrs. Sam (Leah Rosen)\n",
       "Name: Name, dtype: object"
      ]
     },
     "execution_count": 62,
     "metadata": {},
     "output_type": "execute_result"
    }
   ],
   "source": [
    "#PRÁCTICA 12: VER LOS 12 ÚLTIMOS NOMBRES EN ORDEN DESC DE PASAJEROS QUE SON MUJERES DE LA CLASE 3 Y QUE, CUYO PASSENGERID ES MAYOR A 100\n",
    "titanicC3FemaleID100= (titanic[\"Pclass\"]==3)&(titanic[\"Sex\"]==\"female\")&(titanic[\"PassengerId\"]>100)\n",
    "titanic[titanicC3FemaleID100][\"Name\"].tail(12).sort_values(ascending=False)\n"
   ]
  },
  {
   "cell_type": "code",
   "execution_count": 56,
   "metadata": {},
   "outputs": [
    {
     "data": {
      "text/plain": [
       "69                                    Kink, Mr. Vincenz\n",
       "70                           Jenkin, Mr. Stephen Curnow\n",
       "71                           Goodwin, Miss. Lillian Amy\n",
       "72                                 Hood, Mr. Ambrose Jr\n",
       "73                          Chronopoulos, Mr. Apostolos\n",
       "74                                        Bing, Mr. Lee\n",
       "75                              Moen, Mr. Sigurd Hansen\n",
       "76                                    Staneff, Mr. Ivan\n",
       "77                             Moutal, Mr. Rahamin Haim\n",
       "78                        Caldwell, Master. Alden Gates\n",
       "79                             Dowdell, Miss. Elizabeth\n",
       "80                                 Waelens, Mr. Achille\n",
       "81                          Sheerlinck, Mr. Jan Baptist\n",
       "82                       McDermott, Miss. Brigdet Delia\n",
       "83                              Carrau, Mr. Francisco M\n",
       "84                                  Ilett, Miss. Bertha\n",
       "85    Backstrom, Mrs. Karl Alfred (Maria Mathilda Gu...\n",
       "86                               Ford, Mr. William Neal\n",
       "87                        Slocovski, Mr. Selman Francis\n",
       "88                           Fortune, Miss. Mabel Helen\n",
       "89                               Celotti, Mr. Francesco\n",
       "90                                 Christmann, Mr. Emil\n",
       "91                           Andreasson, Mr. Paul Edvin\n",
       "92                          Chaffee, Mr. Herbert Fuller\n",
       "93                              Dean, Mr. Bertram Frank\n",
       "94                                    Coxon, Mr. Daniel\n",
       "95                          Shorney, Mr. Charles Joseph\n",
       "96                            Goldschmidt, Mr. George B\n",
       "97                      Greenfield, Mr. William Bertram\n",
       "98                 Doling, Mrs. John T (Ada Julia Bone)\n",
       "99                                    Kantor, Mr. Sinai\n",
       "Name: Name, dtype: object"
      ]
     },
     "execution_count": 56,
     "metadata": {},
     "output_type": "execute_result"
    }
   ],
   "source": [
    "#PRÁCTICA 13: VER UNA LISTA CON LOS NOMBRES CUYO PASSENGERId ESTÉ COMPRENDIDO ENTRE 70 Y 180\n",
    "\n",
    "titanicID70and100= (titanic[\"PassengerId\"]>=70)&(titanic[\"PassengerId\"]<=100)\n",
    "titanic[titanicID70and100].Name"
   ]
  }
 ],
 "metadata": {
  "kernelspec": {
   "display_name": "Python 3",
   "language": "python",
   "name": "python3"
  },
  "language_info": {
   "codemirror_mode": {
    "name": "ipython",
    "version": 3
   },
   "file_extension": ".py",
   "mimetype": "text/x-python",
   "name": "python",
   "nbconvert_exporter": "python",
   "pygments_lexer": "ipython3",
   "version": "3.12.4"
  }
 },
 "nbformat": 4,
 "nbformat_minor": 2
}
