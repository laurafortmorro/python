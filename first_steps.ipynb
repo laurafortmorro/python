{
 "cells": [
  {
   "cell_type": "markdown",
   "metadata": {},
   "source": [
    "Esta es una celda Markdown, es texto que no se ejecuta. Además sirve para añadir notas durante el proyecto.\n",
    "Apuntes: Python trabaja con un kernel(guarda variables, listas, funciones...) este Kernel(núcleo) se puede RESET - los lenguajes que se debe declarar una variable antes van con RAM, y se declara para reservar un espacio"
   ]
  },
  {
   "cell_type": "code",
   "execution_count": null,
   "metadata": {},
   "outputs": [],
   "source": [
    "#Esto sirve para realizar un comentario\n",
    "'''Sirve para \n",
    "realizar un comentario de diferentes líneas'''\n",
    "\n",
    "#variables: almacenan temporalmente un valor\n",
    "\n",
    "x = 5\n"
   ]
  },
  {
   "cell_type": "code",
   "execution_count": null,
   "metadata": {},
   "outputs": [],
   "source": [
    "#cómo ver un resultado, en el output\n",
    "print(x)\n",
    "print(x+2)"
   ]
  },
  {
   "cell_type": "code",
   "execution_count": null,
   "metadata": {},
   "outputs": [],
   "source": [
    "#Python distingue mayúsculas de minúsculas\n",
    "X = 3\n",
    "print(x+X)"
   ]
  },
  {
   "cell_type": "code",
   "execution_count": null,
   "metadata": {},
   "outputs": [],
   "source": [
    "#variables string entre comillas simples o dobles\n",
    "\n",
    "dia= \"Lunes\"\n",
    "print(dia)"
   ]
  },
  {
   "cell_type": "code",
   "execution_count": null,
   "metadata": {},
   "outputs": [],
   "source": [
    "#cómo concatenar valores con la función print\n",
    "print(\"hoy es\", dia, \"y mañana martes\")"
   ]
  },
  {
   "cell_type": "code",
   "execution_count": null,
   "metadata": {},
   "outputs": [],
   "source": [
    "#listas, tuplas y diccionarios\n",
    "\n",
    "#listas: se puede modificar el valor. Puede tener elementos de distintos tipos\n",
    "semana= [\"Lunes\", \"Martes\", \"Miercoles\", \"Jueves\", \"Viernes\", \"Sabado\", \"Domingo\", 20, 30]\n",
    "\n",
    "\n",
    "print(semana[0])\n",
    "semana[0]= \"domingo\"\n",
    "print(semana)\n",
    "\n",
    "#tupla: no se puede modificar el valor\n",
    "semanaFija= (\"Lunes\", \"Martes\", \"Miércoles\")\n",
    "\n",
    "print(semanaFija)"
   ]
  },
  {
   "cell_type": "code",
   "execution_count": null,
   "metadata": {},
   "outputs": [],
   "source": [
    "#función len, número de caracteres\n",
    "\n",
    "len(dia)\n",
    "len(semana[0])\n",
    "len(semana)"
   ]
  },
  {
   "cell_type": "code",
   "execution_count": null,
   "metadata": {},
   "outputs": [],
   "source": [
    "#como añadir un elemento a una lista, con append\n",
    "\n",
    "semana.append(\"festivos\")\n",
    "print(semana)"
   ]
  },
  {
   "cell_type": "code",
   "execution_count": null,
   "metadata": {},
   "outputs": [],
   "source": [
    "#para insterar un elemento en una posición determinada, con insert\n",
    "semana.insert(1, \"Lunes\")\n",
    "semana"
   ]
  },
  {
   "cell_type": "code",
   "execution_count": null,
   "metadata": {},
   "outputs": [],
   "source": [
    "#Para ver cuantes veces  está repetido un elemento, con count\n",
    "\n",
    "semana.count(\"festivos\")"
   ]
  },
  {
   "cell_type": "code",
   "execution_count": null,
   "metadata": {},
   "outputs": [],
   "source": [
    "#cómo eliminar un elemento\n",
    "\n",
    "semana.remove(\"festivos\")\n",
    "print(semana)\n",
    "\n",
    "semana.append(\"Lunes\")\n",
    "print(semana)"
   ]
  },
  {
   "cell_type": "code",
   "execution_count": null,
   "metadata": {},
   "outputs": [],
   "source": [
    "#Para eliminar según el índice\n",
    "del semana[8]\n",
    "print(semana)"
   ]
  },
  {
   "cell_type": "markdown",
   "metadata": {},
   "source": [
    "PRACTICA 1: \n",
    "- CREAREMOS UNA LISTA LLAMADA MESES, QUE TENDRÁ LOS MESES DE ENERO A MAYO, MENOS ABRIL.\n",
    "- DESPUÉS AÑADIREMOS JUNIO Y JULIO AL FINAL\n",
    "- INSERTAREMOS EL MES DE ABRIL EN SU SITIO CORRECTO\n",
    "- AÑADIREMOS 2 VECES MÁS AL FINAL FEBRERO\n",
    "- EN UNA VARIABLE ALMACENAREMOS EL NÚMERO DE VECES QUE ESTÁ FEBRERO\n",
    "- DESPUÉS ELIMINAREMOS LOS FEBREROS QUE SOBRAN\n",
    "- EN UN TEXTO NOS TIENE QUE MOSTRAR CUANTAS VECES ESTABA EL MES DE FEBRERO"
   ]
  },
  {
   "cell_type": "code",
   "execution_count": 13,
   "metadata": {},
   "outputs": [
    {
     "name": "stdout",
     "output_type": "stream",
     "text": [
      "Lista inicial ['Enero', 'Febrero', 'Marzo', 'Mayo']\n",
      "\n",
      "Meses completos hasta Julio ['Enero', 'Febrero', 'Marzo', 'Abril', 'Mayo', 'Junio', 'Julio']\n",
      "Lista con mes de Febrero repetido ['Enero', 'Febrero', 'Marzo', 'Abril', 'Mayo', 'Junio', 'Julio', 'Febrero', 'Febrero']\n",
      "El número de veces que estaba febrero era: 3 veces\n",
      "Lista final de meses ['Enero', 'Febrero', 'Marzo', 'Abril', 'Mayo', 'Junio', 'Julio']\n"
     ]
    }
   ],
   "source": [
    "meses= [\"Enero\", \"Febrero\", \"Marzo\", \"Mayo\"]\n",
    "print(\"Lista inicial\", meses)\n",
    "print()\n",
    "meses.append(\"Junio\")\n",
    "meses.append(\"Julio\")\n",
    "meses.insert(3, \"Abril\")\n",
    "\n",
    "print(\"Meses completos hasta Julio\", meses)\n",
    "\n",
    "meses.append(\"Febrero\")\n",
    "meses.append(\"Febrero\")\n",
    "\n",
    "febrero_num= meses.count(\"Febrero\")\n",
    "\n",
    "print(\"Lista con mes de Febrero repetido\",meses)\n",
    "\n",
    "#los dos puntos sirven para eliminar desde el índice indicado hasta al final de la lista\n",
    "del meses[7:]\n",
    "\n",
    "\n",
    "print(\"El número de veces que estaba febrero era:\",febrero_num, \"veces\")\n",
    "print(\"Lista final de meses\", meses)"
   ]
  },
  {
   "cell_type": "code",
   "execution_count": 22,
   "metadata": {},
   "outputs": [],
   "source": [
    "#Lista numérica\n",
    "numeros= [2,5,6,8,3,6]\n"
   ]
  },
  {
   "cell_type": "code",
   "execution_count": 23,
   "metadata": {},
   "outputs": [
    {
     "data": {
      "text/plain": [
       "[0, 1, 2, 3, 4]"
      ]
     },
     "execution_count": 23,
     "metadata": {},
     "output_type": "execute_result"
    }
   ],
   "source": [
    "numeros2= range(5)\n",
    "numeros2\n",
    "list(numeros2)"
   ]
  },
  {
   "cell_type": "markdown",
   "metadata": {},
   "source": [
    "El range si solo va un número, genera una lista que empieza por 0 y se autoincrementa en 1\n",
    "sino, el primer número es por donde empieza, el segundo es el final -1, y el tercero el incremento"
   ]
  },
  {
   "cell_type": "code",
   "execution_count": 20,
   "metadata": {},
   "outputs": [
    {
     "data": {
      "text/plain": [
       "520"
      ]
     },
     "execution_count": 20,
     "metadata": {},
     "output_type": "execute_result"
    }
   ],
   "source": [
    "numeros3= range(100,25,-10)\n",
    "list(numeros3) \n",
    "\n",
    "sum(numeros3) #la suma de todos sus valores\n",
    "\n",
    "max(numeros3) #ver el valor más grande\n",
    "\n",
    "min(numeros3) #ver el valor más pequeño\n"
   ]
  },
  {
   "cell_type": "markdown",
   "metadata": {},
   "source": [
    "El bucle es un código que se repite hasta que se cumple una condición"
   ]
  },
  {
   "cell_type": "code",
   "execution_count": 27,
   "metadata": {},
   "outputs": [
    {
     "name": "stdout",
     "output_type": "stream",
     "text": [
      "2\n",
      "5\n",
      "6\n",
      "8\n",
      "3\n",
      "6\n",
      "terminado con éxito\n",
      "1 15\n",
      "2 26\n",
      "3 73\n"
     ]
    }
   ],
   "source": [
    "for i in numeros: #después de : siempre debe ir indentado 4 espacios\n",
    "    print(i)\n",
    "print(\"terminado con éxito\")\n",
    "\n",
    "iter=1\n",
    "for i in [15,26,73]:\n",
    "    print(iter,i)\n",
    "    iter +=1\n",
    "\n"
   ]
  },
  {
   "cell_type": "code",
   "execution_count": 31,
   "metadata": {},
   "outputs": [
    {
     "name": "stdout",
     "output_type": "stream",
     "text": [
      "El 2 mes del año es Enero\n",
      "El 4 mes del año es Febrero\n",
      "El 6 mes del año es Marzo\n",
      "El 8 mes del año es Abril\n",
      "El 10 mes del año es Mayo\n",
      "El 12 mes del año es Junio\n",
      "El 14 mes del año es Julio\n"
     ]
    }
   ],
   "source": [
    "iter =1\n",
    "for mes in meses:\n",
    "    print(\"El\", iter, \"mes del año es\", mes)\n",
    "    iter+=1\n"
   ]
  },
  {
   "cell_type": "markdown",
   "metadata": {},
   "source": [
    "PRÁCTICA 2:\n",
    "- CREAR UNA LISTA CON LOS MESES DE ENERO A DICIEMBRE Y MEDIANTE UN BUCLE FOR IMPRIMIR LOS MESES CON SU NÚMERO DELANTE, SOLO IMPRIMIR LOS MESES PARES\n",
    "- EL TEXTO QUE PONGA EL PRIMER MES DEL AÑO ES ENERO, EL SEGUNDO ES FEBRERO..."
   ]
  },
  {
   "cell_type": "code",
   "execution_count": 63,
   "metadata": {},
   "outputs": [
    {
     "name": "stdout",
     "output_type": "stream",
     "text": [
      "['Enero', 'Febrero', 'Marzo', 'Abril', 'Mayo', 'Junio', 'Julio', 'Agosto', 'Septiembre', 'Octubre', 'Noviembre', 'Diciembre']\n",
      "[1, 3, 5, 7, 9, 11]\n",
      "El mes segundo es Febrero\n",
      "El mes cuarto es Abril\n",
      "El mes sexto es Junio\n",
      "El mes octavo es Agosto\n",
      "El mes decimo es Octubre\n",
      "El mes doceavo es Diciembre\n"
     ]
    }
   ],
   "source": [
    "meses_ano= [\"Enero\", \"Febrero\", \"Marzo\", \"Abril\", \"Mayo\", \"Junio\", \"Julio\", \"Agosto\", \"Septiembre\", \"Octubre\", \"Noviembre\", \"Diciembre\"]\n",
    "cardinalidad= [\"primer\",\"segundo\",\"tercero\",\"cuarto\",\"quinto\",\"sexto\",\"septimo\",\"octavo\",\"noveno\",\"decimo\",\"onzavo\",\"doceavo\"]\n",
    "print(meses_ano)\n",
    "iter= range(1,13,2)\n",
    "print(list(iter))\n",
    "\n",
    "\n",
    "for i in iter:\n",
    "    print(\"El mes\",cardinalidad[i], \"es\",meses_ano[i])\n",
    "        \n"
   ]
  },
  {
   "cell_type": "code",
   "execution_count": 64,
   "metadata": {},
   "outputs": [
    {
     "name": "stdout",
     "output_type": "stream",
     "text": [
      "D\n",
      "o\n",
      "m\n",
      "i\n",
      "n\n",
      "g\n",
      "o\n"
     ]
    }
   ],
   "source": [
    "#de una variable de una sola palabra también se puede crear un bucle\n",
    "\n",
    "palabra= \"Domingo\"\n",
    "\n",
    "for letra in palabra:\n",
    "    print(letra)"
   ]
  }
 ],
 "metadata": {
  "kernelspec": {
   "display_name": "Python 3",
   "language": "python",
   "name": "python3"
  },
  "language_info": {
   "codemirror_mode": {
    "name": "ipython",
    "version": 3
   },
   "file_extension": ".py",
   "mimetype": "text/x-python",
   "name": "python",
   "nbconvert_exporter": "python",
   "pygments_lexer": "ipython3",
   "version": "3.12.4"
  }
 },
 "nbformat": 4,
 "nbformat_minor": 2
}
