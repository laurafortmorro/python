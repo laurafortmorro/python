{
 "cells": [
  {
   "cell_type": "markdown",
   "metadata": {},
   "source": [
    "SEGUNDO DÍA DE CLASE"
   ]
  },
  {
   "cell_type": "code",
   "execution_count": null,
   "metadata": {},
   "outputs": [],
   "source": [
    "#estructura de decisión if\n",
    "\n",
    "alfa = \"Barcelona\"\n",
    "\n",
    "if alfa == \"barcelona\":\n",
    "    print(\"Verdadero\")\n",
    "else:\n",
    "    print(\"Falso\")"
   ]
  },
  {
   "cell_type": "markdown",
   "metadata": {},
   "source": [
    "PRACTICA 1:\n",
    "- CON LA LISTA DE MESES Y MEDIANTE UN BUCLE FOR IMPRIMIR TODOS LOS MESES, MENOS JUNIO\n",
    "PRACTICA 2:\n",
    "- CON LA LISTA DE NÚMEROS: 15, 33, 48,62,25,57,84 Y MEDIANTE UN BUCLE FOR IMPRIMIR SOLAMENTE LOS NÚMEROS MAYORES DE 40\n",
    "PRACTICA 3:\n",
    "- CON LA LISTA DE LOS MESES Y MEDIANTE UN BUCLE FOR IMPRIMIR TODOS LOS MESES, CUYO NÚMERO DE CARACTERES DE SU NOMBRE SEA IGUAL A 5"
   ]
  },
  {
   "cell_type": "code",
   "execution_count": null,
   "metadata": {},
   "outputs": [],
   "source": [
    "#PRACTICA 1\n",
    "\n",
    "meses= [\"Enero\", \"Febrero\", \"Marzo\", \"Abril\", \"Mayo\", \"Junio\", \"Julio\", \"Agosto\", \"Septiembre\", \"Octubre\", \"Noviembre\", \"Diciembre\"]\n",
    "\n",
    "for mes in meses:\n",
    "    if mes != \"Junio\":\n",
    "        print(mes)\n"
   ]
  },
  {
   "cell_type": "code",
   "execution_count": null,
   "metadata": {},
   "outputs": [],
   "source": [
    "#PRACTICA 2\n",
    "\n",
    "numeros= [15, 33, 48,62,25,57,84]\n",
    "\n",
    "for numero in numeros:\n",
    "    if numero > 40:\n",
    "        print(numero)"
   ]
  },
  {
   "cell_type": "code",
   "execution_count": null,
   "metadata": {},
   "outputs": [],
   "source": [
    "#PRACTICA 3\n",
    "\n",
    "for mes in meses:\n",
    "    if len(mes) == 5:\n",
    "        print(mes)"
   ]
  },
  {
   "cell_type": "markdown",
   "metadata": {},
   "source": [
    "EN UNA ESTRUCTURE IF, TENGO 2 OPCIONES DE DEVOLUCIÓN\n",
    "IF CONDICIÓN:\n",
    "    OPCIÓN DEV. 1\n",
    "ELSE:\n",
    "    OPCIÓN DEV. 2\n",
    "CON EL ELIF TENDRÉ MÁS OPCIONES DE DEVOLUCIÓN, SIRVE PARA ANALIZAR VARIAS CONDICIONES, LA CONDICIÓN ES QUE SIEMPRE SE ANALIZA EL MISMO VALOR"
   ]
  },
  {
   "cell_type": "code",
   "execution_count": null,
   "metadata": {},
   "outputs": [],
   "source": [
    "provincia = \"Barcelona\"\n",
    "if provincia == Barcelona:\n",
    "    #primera opción\n",
    "    print(\"Vedadero\")\n",
    "elif provincia == \"Girona\":\n",
    "    #segunda función\n",
    "    print(\"Falso\")\n",
    "elif provincia == \"Lleida\":\n",
    "     #tercera función\n",
    "     print(\"Falso\")\n",
    "elif provincia == \"Tarragona\":\n",
    "    #cuarta función\n",
    "    print(\"Falso\")\n",
    "else:\n",
    "    #tend´ría la 5 opción\n",
    "    print(\"No existe\")\n"
   ]
  },
  {
   "cell_type": "code",
   "execution_count": null,
   "metadata": {},
   "outputs": [],
   "source": [
    "#Clasificar el valor de una variable por múltiplos de 24, hasta 100\n",
    "\n",
    "x= 101\n",
    "if x>=0 and x<=25:\n",
    "    print(\"comprendido entre 0 y 25\")\n",
    "elif x<=50:\n",
    "    print(\"comprendido entre 25 y 50\")\n",
    "elif x<=75:\n",
    "    print(\"comprendido entre 50 y 75\")\n",
    "elif x<=100:\n",
    "    print(\"comprendido entre 75 y 100\")\n",
    "else:\n",
    "    print(\"es menor a 0 omayor que 100\")\n"
   ]
  },
  {
   "cell_type": "markdown",
   "metadata": {},
   "source": [
    "PRÁCTICA 4:\n",
    "- MEDIANTE UNA LISTA NUMÉRICA [13,27,34,87,123,46,61,88,32,-6,150,28] Y USANDO UN BUCLE FOR COMBINADO CON UN IF ANIDADO, CLASIFICAR LOS NÚMERO POR MÚLTIPLOS DE 30 HASTA EL 120, SI NO ESTÁ EN ESE INTERVALO MOSTRAR MENSAJE \"EL NÚMERO 13 ESTÁ COMPRENDIDO ENTRE 0-30\""
   ]
  },
  {
   "cell_type": "code",
   "execution_count": null,
   "metadata": {},
   "outputs": [],
   "source": [
    "#práctica 4\n",
    "\n",
    "numbers= [13,27,34,87,123,46,61,88,32,-6,150,28]\n",
    "\n",
    "numbers_order= sorted(numbers)\n",
    "print(numbers_order)\n",
    "\n",
    "for i in numbers_order:\n",
    "    if i <0:\n",
    "        print( \"está por debajo de rango\")\n",
    "    elif i <=30:\n",
    "        print( \"el número\",i,\"está entre el 0 y el 30\")\n",
    "    elif i <= 60:\n",
    "        print( \"el número\",i,\"está entre el 30 y el 60\")\n",
    "    elif i <=90:\n",
    "        print( \"el número\",i,\"está entre el 60 y el 90\")\n",
    "    elif i <= 120:\n",
    "        print( \"el número\",i,\"está entre el 90 y el 120\")\n",
    "    else:\n",
    "        print(\"está por encima de los rangos\")"
   ]
  },
  {
   "cell_type": "code",
   "execution_count": null,
   "metadata": {},
   "outputs": [],
   "source": [
    "x= 10\n",
    "\n",
    "match x:\n",
    "    case 1:\n",
    "        print(\"X vale 1\")\n",
    "    case 2:\n",
    "        print(\"X vale 2\")\n",
    "    case 10:\n",
    "        print(\"X vale 10\")"
   ]
  },
  {
   "cell_type": "code",
   "execution_count": null,
   "metadata": {},
   "outputs": [],
   "source": [
    "#como salir de un bucle con la instrucción break\n",
    "\n",
    "dia = \"Domingo\"\n",
    "for letra in dia:\n",
    "    if letra == \"n\":\n",
    "        break\n",
    "    print(letra)"
   ]
  },
  {
   "cell_type": "code",
   "execution_count": null,
   "metadata": {},
   "outputs": [],
   "source": [
    "#como saltar una iteración de un bucle con la instrucción continue\n",
    "\n",
    "dia = \"Domingo\"\n",
    "for letra in dia:\n",
    "    if letra == \"n\":\n",
    "        continue\n",
    "    print(letra)"
   ]
  },
  {
   "cell_type": "code",
   "execution_count": null,
   "metadata": {},
   "outputs": [],
   "source": [
    "#2 funciones de texto, LOWER y UPPER, para convertir mayúsculas y minúsculas\n",
    "dia = \"domingo\"\n",
    "for letra in dia:\n",
    "    if letra == \"n\":\n",
    "        continue\n",
    "    letra_mayus= letra.upper()\n",
    "    print(letra_mayus)\n",
    "    \n",
    "print(letra_mayus.lower())"
   ]
  },
  {
   "cell_type": "markdown",
   "metadata": {},
   "source": [
    "PRÁCTICA 5: IMRPIMIR LAS LETRAS EN MAYUS DE LA PALABRA supercalifragilisticoespialidoso EXCEPTO LAS LETRAS A\n",
    "\n",
    "PRÁCTICA 6: APROVECHANDO LA LISTA NUM. DE LA PRÁC. 4, IMPRIMIR LOS VALORES DE MANERA INDIVIDUAL HASTA QUE LA SUMA DE ESTOS VALORES SEA MAYOR 100\n",
    "\n",
    "PRÁCTICA 7: IMRPIMIR LA LISTA DE LAS SIGUIENTES CIUDADES: BARCELONA, MURCIA, VALENCIA, TOLEDO, BILBAO, SALAMANCA, TERUEL, BURGOS, MADRID, TARRAGONA\n",
    "SIEMPRE Y CUANDO EL NÚMERO DE CARACTERES DE SU NOMBRE SEA DIFERENTE A 6"
   ]
  },
  {
   "cell_type": "code",
   "execution_count": 68,
   "metadata": {},
   "outputs": [
    {
     "name": "stdout",
     "output_type": "stream",
     "text": [
      "S U P E R C L I F R G I L I S T I C O E S P I L I D O S O "
     ]
    }
   ],
   "source": [
    "#práctica 5\n",
    "\n",
    "palabra= \"supercalifragilisticoespialidoso\"\n",
    "\n",
    "for letra in palabra:\n",
    "    if letra != \"a\":\n",
    "        print(letra.upper(), end=\" \")\n",
    "    '''else:\n",
    "        print(letra)'''\n"
   ]
  },
  {
   "cell_type": "code",
   "execution_count": 72,
   "metadata": {},
   "outputs": [
    {
     "name": "stdout",
     "output_type": "stream",
     "text": [
      "13 la suma total es 13\n",
      "27 la suma total es 40\n",
      "34 la suma total es 74\n"
     ]
    }
   ],
   "source": [
    "#práctica 6\n",
    "numbers= [13,27,34,87,123,46,61,88,32,-6,150,28]\n",
    "sum= 0\n",
    "for i in numbers:\n",
    "    sum+=i\n",
    "    if sum > 100:\n",
    "        break\n",
    "        \n",
    "    print(i, end=\" \")\n",
    "    print(\"la suma total es\",sum)\n",
    "    \n"
   ]
  },
  {
   "cell_type": "code",
   "execution_count": 73,
   "metadata": {},
   "outputs": [
    {
     "name": "stdout",
     "output_type": "stream",
     "text": [
      "BARCELONA\n",
      "VALENCIA\n",
      "SALAMANCA\n",
      "TARRAGONA\n"
     ]
    }
   ],
   "source": [
    "#práctica 7\n",
    "\n",
    "ciudades= [\"BARCELONA\", \"MURCIA\", \"VALENCIA\", \"TOLEDO\", \"BILBAO\", \"SALAMANCA\", \"TERUEL\", \"BURGOS\", \"MADRID\", \"TARRAGONA\"]\n",
    "\n",
    "for ciudad in ciudades:\n",
    "    if len(ciudad) != 6:\n",
    "        print(ciudad)\n",
    "\n"
   ]
  },
  {
   "cell_type": "markdown",
   "metadata": {},
   "source": [
    "CREACIÓN DE FUNCIONES PERSONALIZADAS\n",
    "- PRINT SIEMPRE DEVUELVE UN STRING, PERO UN RETURN SE PUEDE USAR PARA OBTENER UN RESULTADO QUE SE PUEDE USAR EN OTRO SITIO Y EL TIPO PUEDE SER DIFERENTE\n",
    "estructura:\n",
    "\n",
    "def nombre_funcion(parámetro1, parámetro2):\n",
    "requiere ejecución posterior siempre que se realice un cambio en una función"
   ]
  },
  {
   "cell_type": "code",
   "execution_count": 84,
   "metadata": {},
   "outputs": [],
   "source": [
    "#función para sumar 10 a un número\n",
    "\n",
    "def suma10(x):\n",
    "    print(\"se está realizando la suma de 10 al parámetro...\")\n",
    "    return x+10"
   ]
  },
  {
   "cell_type": "code",
   "execution_count": 87,
   "metadata": {},
   "outputs": [
    {
     "name": "stdout",
     "output_type": "stream",
     "text": [
      "se está realizando la suma de 10 al parámetro...\n"
     ]
    },
    {
     "data": {
      "text/plain": [
       "55"
      ]
     },
     "execution_count": 87,
     "metadata": {},
     "output_type": "execute_result"
    }
   ],
   "source": [
    "resultado= suma10(45)\n",
    "\n",
    "print(\"Resultado:\",resultado)"
   ]
  },
  {
   "cell_type": "code",
   "execution_count": 88,
   "metadata": {},
   "outputs": [],
   "source": [
    "def suma20(x):\n",
    "    return x+20"
   ]
  },
  {
   "cell_type": "code",
   "execution_count": 89,
   "metadata": {},
   "outputs": [
    {
     "data": {
      "text/plain": [
       "39"
      ]
     },
     "execution_count": 89,
     "metadata": {},
     "output_type": "execute_result"
    }
   ],
   "source": [
    "14+suma20(5)"
   ]
  },
  {
   "cell_type": "code",
   "execution_count": 90,
   "metadata": {},
   "outputs": [],
   "source": [
    "def sum_a_b(a,b):\n",
    "    return a+b"
   ]
  },
  {
   "cell_type": "code",
   "execution_count": 93,
   "metadata": {},
   "outputs": [
    {
     "data": {
      "text/plain": [
       "75"
      ]
     },
     "execution_count": 93,
     "metadata": {},
     "output_type": "execute_result"
    }
   ],
   "source": [
    "sum_a_b(15,60)"
   ]
  },
  {
   "cell_type": "markdown",
   "metadata": {},
   "source": [
    "PRÁCTICA 8: HACER UNA FUNCIÓN QUE SUME 12 A UN NÚMERO Y LO DIVIDA ENTRE 2 (QUE DEVUELVA UN TEXTO)\n",
    "\n",
    "PRÁCTICA 9: HACER UNA FUNCIÓN QUE PASÁNDOLE UN NÚMERO ENTRE EL 1 Y EL 12 NOS DEVUELVE EL MES EN LETRAS, OJO SI SE LE PASA UN VALOR QUE NO ESTÉ EN EL INTERVALO.\n",
    "\n",
    "PRÁCTICA 10: CREAR UNA FUNCIÓN QUE NOS DEVUELVA EL ÁREA DE UN TRIÁNGULO"
   ]
  },
  {
   "cell_type": "code",
   "execution_count": 123,
   "metadata": {},
   "outputs": [],
   "source": [
    "#práctica 8\n",
    "\n",
    "def sum12div2(x):\n",
    "    #con la función round redondamos el resultado a los decimales indicados en el núm. de después de la coma\n",
    "    total= round((x+12)/2,2)\n",
    "    print(\"El resultado de sumar 12 a\",x,\"y dividir entre 2 es:\",total)\n"
   ]
  },
  {
   "cell_type": "code",
   "execution_count": 125,
   "metadata": {},
   "outputs": [
    {
     "name": "stdout",
     "output_type": "stream",
     "text": [
      "El resultado de sumar 12 a 157.554 y dividir entre 2 es: 84.78\n"
     ]
    }
   ],
   "source": [
    "#llamada función práctia 8\n",
    "\n",
    "sum12div2(157.554)"
   ]
  },
  {
   "cell_type": "code",
   "execution_count": 130,
   "metadata": {},
   "outputs": [],
   "source": [
    "#práctica 9\n",
    "def meses(x):\n",
    "    match x:\n",
    "        case 1:\n",
    "            print(\"Enero\")\n",
    "        case 2:\n",
    "            print(\"Febrero\")\n",
    "        case 3: \n",
    "            print(\"Marzo\")\n",
    "        case 4:\n",
    "            print(\"Abril\")\n",
    "        case 5:\n",
    "            print(\"Mayo\")\n",
    "        case 6:\n",
    "            print(\"Junio\")\n",
    "        case 7:\n",
    "            print(\"Julio\")\n",
    "        case 8:\n",
    "            print(\"Agosto\")\n",
    "        case 9:\n",
    "            print(\"Septiembre\")\n",
    "        case 10:\n",
    "            print(\"Octubre\")\n",
    "        case 11:\n",
    "            print(\"Noviembre\")\n",
    "        case 12:\n",
    "            print(\"Diciembre\")\n",
    "        case default:\n",
    "            print(\"mes no encontrado\")\n"
   ]
  },
  {
   "cell_type": "code",
   "execution_count": 1,
   "metadata": {},
   "outputs": [],
   "source": [
    "def devuelve_mes(x):\n",
    "    meses= [\"Enero\", \"Febrero\", \"Marzo\", \"Abril\", \"Mayo\", \"Junio\", \"Julio\", \"Agosto\", \"Septiembre\", \"Octubre\", \"Noviembre\", \"Diciembre\"]\n",
    "    print(meses[x-1])"
   ]
  },
  {
   "cell_type": "code",
   "execution_count": 140,
   "metadata": {},
   "outputs": [
    {
     "name": "stdout",
     "output_type": "stream",
     "text": [
      "Octubre\n",
      "mes no encontrado\n"
     ]
    }
   ],
   "source": [
    "devuelve_mes(10)\n",
    "meses(19)"
   ]
  },
  {
   "cell_type": "code",
   "execution_count": 3,
   "metadata": {},
   "outputs": [],
   "source": [
    "#práctica 10, calcular el área de un triángulo\n",
    "\n",
    "def area_triangulo(base,altura):\n",
    "    area= base*altura/2\n",
    "    return area"
   ]
  },
  {
   "cell_type": "code",
   "execution_count": 4,
   "metadata": {},
   "outputs": [
    {
     "data": {
      "text/plain": [
       "1625.0"
      ]
     },
     "execution_count": 4,
     "metadata": {},
     "output_type": "execute_result"
    }
   ],
   "source": [
    "area_triangulo(50,65)"
   ]
  },
  {
   "cell_type": "markdown",
   "metadata": {},
   "source": [
    "PRÁCTICA 11: CREAR UNA FUNCIÓN QUE NOS COMPARE 2 NÚMOEROS Y ME DEVUELVA OS 3 POSIBLES RESULTADOS: \n",
    "- A ES MAYOR QUE B\n",
    "- A ES MENOR QUE B\n",
    "A Y B SON IGUALES\n",
    "PRÁCTICA 12: APROVECHANDO LA FUNCIÓN DE LA PRÁCTICA 8, RECORRER UNA LISTA CON LOS SIGUIENTES NÚMEROS [15,24,78,63,57] Y VER EL RESULTADO DESPUÉS DE APLICAR LA FUNCIÓN"
   ]
  },
  {
   "cell_type": "code",
   "execution_count": 142,
   "metadata": {},
   "outputs": [],
   "source": [
    "#práctica 11\n",
    "def compare_numbers(a,b):\n",
    "    if a > b:\n",
    "        print(\"A es mayor que B\")\n",
    "    elif a < b:\n",
    "        print(\"A es menor que B\")\n",
    "    else:\n",
    "        print(\"A y B son iguales\")"
   ]
  },
  {
   "cell_type": "code",
   "execution_count": 146,
   "metadata": {},
   "outputs": [
    {
     "name": "stdout",
     "output_type": "stream",
     "text": [
      "A es mayor que B\n"
     ]
    }
   ],
   "source": [
    "compare_numbers(3,2)"
   ]
  },
  {
   "cell_type": "code",
   "execution_count": 147,
   "metadata": {},
   "outputs": [],
   "source": [
    "#práctica 12\n",
    "\n",
    "def recorrer_lista(list):\n",
    "    for i in list:\n",
    "        sum12div2(i)"
   ]
  },
  {
   "cell_type": "code",
   "execution_count": 148,
   "metadata": {},
   "outputs": [
    {
     "name": "stdout",
     "output_type": "stream",
     "text": [
      "El resultado de sumar 12 a 15 y dividir entre 2 es: 13.5\n",
      "El resultado de sumar 12 a 24 y dividir entre 2 es: 18.0\n",
      "El resultado de sumar 12 a 78 y dividir entre 2 es: 45.0\n",
      "El resultado de sumar 12 a 63 y dividir entre 2 es: 37.5\n",
      "El resultado de sumar 12 a 57 y dividir entre 2 es: 34.5\n"
     ]
    }
   ],
   "source": [
    "list= [15,24,78,63,57]\n",
    "recorrer_lista(list)"
   ]
  }
 ],
 "metadata": {
  "kernelspec": {
   "display_name": "Python 3",
   "language": "python",
   "name": "python3"
  },
  "language_info": {
   "codemirror_mode": {
    "name": "ipython",
    "version": 3
   },
   "file_extension": ".py",
   "mimetype": "text/x-python",
   "name": "python",
   "nbconvert_exporter": "python",
   "pygments_lexer": "ipython3",
   "version": "3.12.4"
  }
 },
 "nbformat": 4,
 "nbformat_minor": 2
}
